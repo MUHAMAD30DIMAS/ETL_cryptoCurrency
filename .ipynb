{
 "cells": [
  {
   "cell_type": "code",
   "execution_count": null,
   "id": "9626ca5c",
   "metadata": {},
   "outputs": [],
   "source": [
    "# %pip install requests pandas google-cloud-bigquery prefect"
   ]
  },
  {
   "cell_type": "code",
   "execution_count": 33,
   "id": "fdb0dd86",
   "metadata": {},
   "outputs": [],
   "source": [
    "from google.oauth2 import service_account\n",
    "import seaborn as sns\n",
    "import pandas as pd\n",
    "import requests\n",
    "import pandas_gbq as gbq\n",
    "import logging\n",
    "import os\n",
    "from google.cloud import bigquery"
   ]
  },
  {
   "cell_type": "markdown",
   "id": "25e9733b",
   "metadata": {},
   "source": [
    "## Extract Data Crypto Market "
   ]
  },
  {
   "cell_type": "code",
   "execution_count": 3,
   "id": "d84d1c42",
   "metadata": {},
   "outputs": [],
   "source": [
    "def fetch_coingecko_data():\n",
    "    url = \"https://api.coingecko.com/api/v3/coins/markets\"\n",
    "    params = {\n",
    "        'vs_currency': 'usd',\n",
    "        'order': 'market_cap_desc',\n",
    "        'per_page': 20,      # Top 20 coin\n",
    "        'page': 1,\n",
    "        'sparkline': False\n",
    "    }\n",
    "    response = requests.get(url, params=params)\n",
    "    response.raise_for_status()\n",
    "    data = response.json()\n",
    "    logging.info(f\"Data fetched from {url}\")\n",
    "    df = pd.DataFrame(data)\n",
    "    # Simpan ke CSV (optional)\n",
    "    df.to_csv(\"../data/raw_crypto.csv\", index=False)\n",
    "    return df"
   ]
  },
  {
   "cell_type": "markdown",
   "id": "254853bd",
   "metadata": {},
   "source": [
    "## Transform Data"
   ]
  },
  {
   "cell_type": "code",
   "execution_count": 4,
   "id": "55750ca3",
   "metadata": {},
   "outputs": [],
   "source": [
    "# Data enrich\n",
    "\n",
    "def enrich_crypto_data(df):\n",
    "    # 1. Selisih ke ATH\n",
    "    df['ath_diff'] = df['ath'] - df['current_price']\n",
    "    # 2. Gap persen ke ATH\n",
    "    df['ath_gap_pct'] = ((df['ath'] - df['current_price']) / df['ath']) * 100\n",
    "    # 3. Rasio volume ke market cap\n",
    "    df['vol_to_market_cap'] = df['total_volume'] / df['market_cap']\n",
    "    # 4. Kategori market cap\n",
    "    df['cap_category'] = pd.cut(\n",
    "        df['market_cap'],\n",
    "        bins=[0, 1e9, 10e9, 1e13],\n",
    "        labels=['Small Cap', 'Mid Cap', 'Large Cap']\n",
    "    )\n",
    "    # 5. Arah perubahan harga 24 jam terakhir\n",
    "    df['change_direction'] = df['price_change_percentage_24h'].apply(\n",
    "        lambda x: 'up' if x > 0 else ('down' if x < 0 else 'no change')\n",
    "    )\n",
    "    # 6. Status mendekati ATH atau tidak\n",
    "    df['ath_status'] = df['ath_gap_pct'].apply(\n",
    "        lambda x: 'near ATH' if x < 10 else ('far from ATH' if x > 30 else 'moderate')\n",
    "    )\n",
    "    return df"
   ]
  },
  {
   "cell_type": "code",
   "execution_count": 38,
   "id": "7997e2cf",
   "metadata": {},
   "outputs": [],
   "source": [
    "# Data Cleaning\n",
    "\n",
    "def clean_and_enrich_crypto_data(input_csv=\"raw_crypto.csv\", output_csv=\"clean_crypto.csv\"):\n",
    "    df = pd.read_csv(input_csv)\n",
    "    keep_cols = [\n",
    "        'id', 'symbol', 'name', 'current_price', 'market_cap', 'total_volume',\n",
    "        'price_change_percentage_24h', 'last_updated', 'ath'\n",
    "    ]\n",
    "    df = df[keep_cols]\n",
    "    df.dropna(inplace=True)\n",
    "    df['last_updated'] = pd.to_datetime(df['last_updated'])\n",
    "    df = enrich_crypto_data(df)\n",
    "    df.to_csv(output_csv, index=False)\n",
    "    return df\n"
   ]
  },
  {
   "cell_type": "markdown",
   "id": "e0968313",
   "metadata": {},
   "source": [
    "## Load to BigQuery"
   ]
  },
  {
   "cell_type": "code",
   "execution_count": null,
   "id": "10271cc8",
   "metadata": {},
   "outputs": [],
   "source": [
    "# BigQuery configuration\n",
    "PROJECT_ID = \"api-crypto-dashboard\"\n",
    "KEY_PATH = \"../config/api-crypto-dashboard-4d7f7e155f6b.json\"\n",
    "TABLE_ID = \"API_CRYPTO_DASHBOARD.crypto_boys\""
   ]
  },
  {
   "cell_type": "code",
   "execution_count": 36,
   "id": "c97b9a78",
   "metadata": {},
   "outputs": [],
   "source": [
    "# set up credentials\n",
    "SCOPES = [\"https://www.googleapis.com/auth/bigquery\"]\n",
    "credentials = service_account.Credentials.from_service_account_file(KEY_PATH, scopes=SCOPES)"
   ]
  },
  {
   "cell_type": "code",
   "execution_count": 39,
   "id": "ff516677",
   "metadata": {},
   "outputs": [],
   "source": [
    "df = clean_and_enrich_crypto_data()\n",
    "\n",
    "gbq.to_gbq(df, \n",
    "           destination_table=TABLE_ID, \n",
    "           project_id=PROJECT_ID, \n",
    "           credentials=credentials)"
   ]
  },
  {
   "cell_type": "code",
   "execution_count": 30,
   "id": "33377179",
   "metadata": {},
   "outputs": [],
   "source": [
    "def load_to_bigquery(csv_path=\"../data/clean_crypto.csv\"):\n",
    "    os.environ[\"GOOGLE_APPLICATION_CREDENTIALS\"] = \"PortProject_API/config/api-crypto-dashboard-4d7f7e155f6b.json\"\n",
    "    df = pd.read_csv(csv_path)\n",
    "    client = gbq.Client()\n",
    "    table_id = \"API_CRYPTO_DASHBOARD.crypto_markets\"  \n",
    "\n",
    "    job = client.load_table_from_dataframe(df, table_id, if_exists=\"replace\")\n",
    "    job.result()\n",
    "    print(f\"Sukses upload ke {table_id}\")"
   ]
  }
 ],
 "metadata": {
  "kernelspec": {
   "display_name": "jcds0612",
   "language": "python",
   "name": "python3"
  },
  "language_info": {
   "codemirror_mode": {
    "name": "ipython",
    "version": 3
   },
   "file_extension": ".py",
   "mimetype": "text/x-python",
   "name": "python",
   "nbconvert_exporter": "python",
   "pygments_lexer": "ipython3",
   "version": "3.13.2"
  }
 },
 "nbformat": 4,
 "nbformat_minor": 5
}
